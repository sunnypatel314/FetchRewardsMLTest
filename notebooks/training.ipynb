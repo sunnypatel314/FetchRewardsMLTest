{
 "cells": [
  {
   "cell_type": "markdown",
   "id": "6528968d",
   "metadata": {},
   "source": [
    "## Fetch Rewards Machine Learning Take Home Test \n",
    "\n",
    "### Name: Sunny Patel"
   ]
  },
  {
   "cell_type": "markdown",
   "id": "743b7f36",
   "metadata": {},
   "source": [
    "Here is the approach I took with this assessment.\n",
    "\n",
    "1. **Collect the data**\n",
    "2. **Analyze the data**\n",
    "3. **Split the data into training and test sets**\n",
    "4. **Normalize the data**\n",
    "5. **Build neural network architecture** (this could have been done with linear regression, but I decided to go with a neural net)\n",
    "6. **Train the model** using training data\n",
    "7. **Evaluate the model**\n",
    "8. **Tune the model's hyperparameters**\n",
    "9. **Save the model for future inference**"
   ]
  },
  {
   "cell_type": "code",
   "execution_count": 702,
   "id": "60e2121b",
   "metadata": {},
   "outputs": [],
   "source": [
    "import pandas as pd\n",
    "import numpy as np\n",
    "import matplotlib.pyplot as plt\n",
    "import torch\n",
    "import torch.nn as nn\n",
    "import torch.optim as optim"
   ]
  },
  {
   "cell_type": "code",
   "execution_count": 703,
   "id": "4dbea736",
   "metadata": {},
   "outputs": [
    {
     "data": {
      "text/html": [
       "<div>\n",
       "<style scoped>\n",
       "    .dataframe tbody tr th:only-of-type {\n",
       "        vertical-align: middle;\n",
       "    }\n",
       "\n",
       "    .dataframe tbody tr th {\n",
       "        vertical-align: top;\n",
       "    }\n",
       "\n",
       "    .dataframe thead th {\n",
       "        text-align: right;\n",
       "    }\n",
       "</style>\n",
       "<table border=\"1\" class=\"dataframe\">\n",
       "  <thead>\n",
       "    <tr style=\"text-align: right;\">\n",
       "      <th></th>\n",
       "      <th>Month</th>\n",
       "      <th>Receipt_Count</th>\n",
       "    </tr>\n",
       "  </thead>\n",
       "  <tbody>\n",
       "    <tr>\n",
       "      <th>0</th>\n",
       "      <td>1</td>\n",
       "      <td>236736687</td>\n",
       "    </tr>\n",
       "    <tr>\n",
       "      <th>1</th>\n",
       "      <td>2</td>\n",
       "      <td>220033460</td>\n",
       "    </tr>\n",
       "    <tr>\n",
       "      <th>2</th>\n",
       "      <td>3</td>\n",
       "      <td>248608625</td>\n",
       "    </tr>\n",
       "    <tr>\n",
       "      <th>3</th>\n",
       "      <td>4</td>\n",
       "      <td>250644830</td>\n",
       "    </tr>\n",
       "    <tr>\n",
       "      <th>4</th>\n",
       "      <td>5</td>\n",
       "      <td>263151748</td>\n",
       "    </tr>\n",
       "    <tr>\n",
       "      <th>5</th>\n",
       "      <td>6</td>\n",
       "      <td>260656840</td>\n",
       "    </tr>\n",
       "    <tr>\n",
       "      <th>6</th>\n",
       "      <td>7</td>\n",
       "      <td>274776003</td>\n",
       "    </tr>\n",
       "    <tr>\n",
       "      <th>7</th>\n",
       "      <td>8</td>\n",
       "      <td>283943231</td>\n",
       "    </tr>\n",
       "    <tr>\n",
       "      <th>8</th>\n",
       "      <td>9</td>\n",
       "      <td>281146154</td>\n",
       "    </tr>\n",
       "    <tr>\n",
       "      <th>9</th>\n",
       "      <td>10</td>\n",
       "      <td>295965185</td>\n",
       "    </tr>\n",
       "    <tr>\n",
       "      <th>10</th>\n",
       "      <td>11</td>\n",
       "      <td>296085162</td>\n",
       "    </tr>\n",
       "    <tr>\n",
       "      <th>11</th>\n",
       "      <td>12</td>\n",
       "      <td>309948684</td>\n",
       "    </tr>\n",
       "  </tbody>\n",
       "</table>\n",
       "</div>"
      ],
      "text/plain": [
       "    Month  Receipt_Count\n",
       "0       1      236736687\n",
       "1       2      220033460\n",
       "2       3      248608625\n",
       "3       4      250644830\n",
       "4       5      263151748\n",
       "5       6      260656840\n",
       "6       7      274776003\n",
       "7       8      283943231\n",
       "8       9      281146154\n",
       "9      10      295965185\n",
       "10     11      296085162\n",
       "11     12      309948684"
      ]
     },
     "execution_count": 703,
     "metadata": {},
     "output_type": "execute_result"
    }
   ],
   "source": [
    "df = pd.read_csv('data_daily.csv') # Turn data into pandas dataframe\n",
    "\n",
    "# Group the data into months since we are trying to predict future months, not days.\n",
    "df['# Date'] = pd.to_datetime(df['# Date'])\n",
    "df['Month'] = df['# Date'].dt.to_period('M')\n",
    "df_monthly = df.groupby('Month')['Receipt_Count'].sum().reset_index()\n",
    "df_monthly['Month'] = df_monthly['Month'].dt.month\n",
    "df_monthly"
   ]
  },
  {
   "cell_type": "code",
   "execution_count": 704,
   "id": "e9fc289b",
   "metadata": {},
   "outputs": [
    {
     "data": {
      "image/png": "[encoded data removed]",
      "text/plain": [
       "<Figure size 720x432 with 1 Axes>"
      ]
     },
     "metadata": {
      "needs_background": "light"
     },
     "output_type": "display_data"
    },
    {
     "data": {
      "text/plain": [
       "count    3.650000e+02\n",
       "mean     8.826566e+06\n",
       "std      7.820089e+05\n",
       "min      7.095414e+06\n",
       "25%      8.142874e+06\n",
       "50%      8.799249e+06\n",
       "75%      9.476970e+06\n",
       "max      1.073886e+07\n",
       "Name: Receipt_Count, dtype: float64"
      ]
     },
     "execution_count": 704,
     "metadata": {},
     "output_type": "execute_result"
    }
   ],
   "source": [
    "# This shows a very clear linear trend upwards\n",
    "plt.figure(figsize=(10, 6))\n",
    "plt.plot(df_monthly['Month'].astype(str), df_monthly['Receipt_Count'], marker='o')\n",
    "\n",
    "plt.xlabel('Month')\n",
    "plt.ylabel('Receipt Count')\n",
    "plt.title('Receipt Count by Month in 2021')\n",
    "plt.xticks(rotation=45) \n",
    "plt.tight_layout()\n",
    "plt.show()\n",
    "df[\"Receipt_Count\"].describe()\n"
   ]
  },
  {
   "cell_type": "code",
   "execution_count": 705,
   "id": "1a44661c",
   "metadata": {},
   "outputs": [],
   "source": [
    "# Split data; 85% is training, 15% is testing.\n",
    "# We are splitting the data first to avoid data leakage.\n",
    "# If we scale then split, we are using information from the test data to train our NN, which is not good.\n",
    "# This is giving the NN an unfair advantage during the training process, and doesn't reflect realistic inference capabilities.\n",
    "split_index = int(len(df_monthly) * 0.85)\n",
    "X_train_original = df_monthly[:split_index][\"Month\"].to_numpy()\n",
    "y_train_original = df_monthly[:split_index][\"Receipt_Count\"].to_numpy()\n",
    "X_test = df_monthly[split_index:][\"Month\"].to_numpy()\n",
    "y_test = df_monthly[split_index:][\"Receipt_Count\"].to_numpy()\n"
   ]
  },
  {
   "cell_type": "code",
   "execution_count": 706,
   "id": "dd230ac2",
   "metadata": {},
   "outputs": [
    {
     "data": {
      "text/plain": [
       "((10,), (10,), (2,), (2,))"
      ]
     },
     "execution_count": 706,
     "metadata": {},
     "output_type": "execute_result"
    }
   ],
   "source": [
    "# MinMax scale the data (MinMax scaling is simple so I didn't make a seperate function for it).\n",
    "# Fit the scaler on the training data alone and fit the testing data using that scaler.\n",
    "# This would be easier and less code if I could use sk-learn, but I refrained from doing so as per the instructions.\n",
    "X_train = (X_train_original - X_train_original.min()) / (X_train_original.max() - X_train_original.min())\n",
    "y_train = (y_train_original - y_train_original.min()) / (y_train_original.max() - y_train_original.min())\n",
    "X_test = (X_test - X_train_original.min()) / (X_train_original.max() - X_train_original.min())\n",
    "y_test = (y_test - y_train_original.min()) / (y_train_original.max() - y_train_original.min())\n",
    "\n",
    "X_train.shape, y_train.shape, X_test.shape, y_test.shape"
   ]
  },
  {
   "cell_type": "code",
   "execution_count": 707,
   "id": "45200f7d",
   "metadata": {},
   "outputs": [],
   "source": [
    "# Convert the data into tensors for PyTorch to use.\n",
    "X_train_tensor = torch.tensor(X_train, dtype=torch.float32).view(-1, 1)\n",
    "y_train_tensor = torch.tensor(y_train, dtype=torch.float32).view(-1, 1)\n",
    "X_test_tensor = torch.tensor(X_test, dtype=torch.float32).view(-1, 1)\n",
    "y_test_tensor = torch.tensor(y_test, dtype=torch.float32).view(-1, 1)"
   ]
  },
  {
   "cell_type": "code",
   "execution_count": 708,
   "id": "e5e53363",
   "metadata": {},
   "outputs": [],
   "source": [
    "# Neural network architecture \n",
    "# 1 input layer, 1 hidden layer, and 1 output layer\n",
    "class NeuralNet(nn.Module):\n",
    "    def __init__(self, input_dim, hidden_dim, output_dim):\n",
    "        super(NeuralNet, self).__init__()\n",
    "        self.fc_layer1 = nn.Linear(input_dim, hidden_dim)    # Input layer to hidden layer\n",
    "        self.fc_layer2 = nn.Linear(hidden_dim, output_dim)    # Hidden layer to output layer\n",
    "\n",
    "    def forward(self, x):\n",
    "        x = torch.relu(self.fc_layer1(x))   # Activation function for the hidden layer\n",
    "        x = self.fc_layer2(x)               # Output layer\n",
    "        return x\n",
    "\n",
    "torch.manual_seed(42) # Random seed for reproduceability\n",
    "model = NeuralNet(1, 12, 1) \n",
    "criterion = nn.MSELoss()  # Mean Squared Error Loss\n",
    "optimizer = optim.Adam(model.parameters(), lr=0.005)  # Adam optimizer"
   ]
  },
  {
   "cell_type": "code",
   "execution_count": 709,
   "id": "494a5c69",
   "metadata": {},
   "outputs": [
    {
     "name": "stdout",
     "output_type": "stream",
     "text": [
      "Epoch [1/300], Loss: 1.1283\n",
      "Epoch [50/300], Loss: 0.0476\n",
      "Epoch [100/300], Loss: 0.0203\n",
      "Epoch [150/300], Loss: 0.0105\n",
      "Epoch [200/300], Loss: 0.0075\n",
      "Epoch [250/300], Loss: 0.0071\n",
      "Epoch [300/300], Loss: 0.0069\n"
     ]
    }
   ],
   "source": [
    "# Training process\n",
    "prev_losses = [] # Keep track of losses over each epoch\n",
    "\n",
    "num_epochs = 300\n",
    "for epoch in range(num_epochs):\n",
    "    model.train()\n",
    "    \n",
    "    outputs = model(X_train_tensor)\n",
    "    loss = criterion(outputs, y_train_tensor)\n",
    "    prev_losses.append(loss.item())\n",
    "    \n",
    "    optimizer.zero_grad()  \n",
    "    loss.backward()       \n",
    "    optimizer.step()     \n",
    "    \n",
    "    if (epoch+1) % 50 == 0 or epoch == 0:  # Print loss every 10 epochs + the first epoch\n",
    "        print(f'Epoch [{epoch+1}/{num_epochs}], Loss: {loss.item():.4f}')"
   ]
  },
  {
   "cell_type": "code",
   "execution_count": 710,
   "id": "6cdb1735",
   "metadata": {},
   "outputs": [
    {
     "name": "stdout",
     "output_type": "stream",
     "text": [
      "Test Loss: 0.0059\n"
     ]
    }
   ],
   "source": [
    "# Evaluate the model using our test data (last 2 data points in this case)\n",
    "model.eval()\n",
    "with torch.no_grad():\n",
    "    test_outputs = model(X_test_tensor)\n",
    "    test_loss = criterion(test_outputs, y_test_tensor)\n",
    "    \n",
    "print(f'Test Loss: {test_loss.item():.4f}')\n",
    "\n",
    "# The test loss is slightly lower than the training loss, which is uncommon but not a deal breaker. \n",
    "# This can be bad if it is a result of your testing data leaking into the training process, but I doubt that is the case here.\n",
    "# Overall, I think this is fine. "
   ]
  },
  {
   "cell_type": "code",
   "execution_count": 711,
   "id": "215f207b",
   "metadata": {},
   "outputs": [],
   "source": [
    "# Making numpy array representing the next 12 months (2022).\n",
    "next_12_months = np.arange(13, 25) \n",
    "\n",
    "# Scaling the next 12 months values using the training dataset.\n",
    "# Reminder: We are using the training dataset to scale because that is what we scaled the entire dataset with originally to avoid data leakage.\n",
    "min_value, max_value = X_train_original.min(), X_train_original.max()\n",
    "next_12_months_scaled = (next_12_months - min_value) / (max_value - min_value)\n",
    "\n",
    "# Convert into tensor for PyTorch to use.\n",
    "next_12_months_scaled = torch.tensor(next_12_months_scaled, dtype=torch.float32).view(-1, 1)\n",
    "\n",
    "# Set the model to evaluation mode.\n",
    "model.eval()\n",
    "\n",
    "# Make predictions for 2022\n",
    "with torch.no_grad():\n",
    "    predictions = model(next_12_months_scaled)\n",
    "    \n",
    "# Predictions for every month of the following year (2022).   \n",
    "predictions = predictions.flatten().numpy()\n",
    "\n",
    "# 'Unscale' the predictions; turn them into actual receipt counts. \n",
    "receipts_min, receipts_max = y_train_original.min(), y_train_original.max()\n",
    "predictions = (predictions) * (receipts_max - receipts_min) + receipts_min"
   ]
  },
  {
   "cell_type": "code",
   "execution_count": 712,
   "id": "7c12b47d",
   "metadata": {},
   "outputs": [
    {
     "data": {
      "image/png": "[encoded data removed]",
      "text/plain": [
       "<Figure size 432x288 with 1 Axes>"
      ]
     },
     "metadata": {
      "needs_background": "light"
     },
     "output_type": "display_data"
    }
   ],
   "source": [
    "# This graph shows the 12 months in our dataset and their receipt counts + the 12 months we predicted and their estimated counts.\n",
    "# This is actually a solid line and seems like a good fit, so I'm going to use this model. \n",
    "\n",
    "total = df_monthly[\"Receipt_Count\"].to_list() + list(predictions.astype(int))\n",
    "x_values = np.arange(1, 25)\n",
    "plt.plot(x_values, total, marker='o')\n",
    "plt.xlabel('Months')\n",
    "plt.ylabel('Count')\n",
    "plt.title('Receipt Counts for all 24 months')\n",
    "plt.grid(True)\n",
    "plt.show()\n"
   ]
  },
  {
   "cell_type": "code",
   "execution_count": 713,
   "id": "c0eded6b",
   "metadata": {},
   "outputs": [],
   "source": [
    "model_path = \"./model.pt\"\n",
    "\n",
    "# Scaler information to use for inference.\n",
    "scaler_params = {\n",
    "    \"X_min\": X_train_original.min(), \n",
    "    \"X_max\": X_train_original.max(),\n",
    "    \"y_min\": y_train_original.min(),\n",
    "    \"y_max\": y_train_original.max()\n",
    "}\n",
    "\n",
    "# To perform inference, we save the weights and scaler into a .pt file.\n",
    "torch.save({\n",
    "    'model_state_dict': model.state_dict(),\n",
    "    'scaler_params': scaler_params\n",
    "}, model_path)"
   ]
  },
  {
   "cell_type": "code",
   "execution_count": null,
   "id": "8fe50f42",
   "metadata": {},
   "outputs": [],
   "source": []
  },
  {
   "cell_type": "code",
   "execution_count": null,
   "id": "3ed596b4",
   "metadata": {},
   "outputs": [],
   "source": []
  },
  {
   "cell_type": "code",
   "execution_count": null,
   "id": "425c8c08",
   "metadata": {},
   "outputs": [],
   "source": []
  }
 ],
 "metadata": {
  "kernelspec": {
   "display_name": "Python 3 (ipykernel)",
   "language": "python",
   "name": "python3"
  },
  "language_info": {
   "codemirror_mode": {
    "name": "ipython",
    "version": 3
   },
   "file_extension": ".py",
   "mimetype": "text/x-python",
   "name": "python",
   "nbconvert_exporter": "python",
   "pygments_lexer": "ipython3",
   "version": "3.9.12"
  }
 },
 "nbformat": 4,
 "nbformat_minor": 5
}
